{
 "cells": [
  {
   "cell_type": "markdown",
   "metadata": {},
   "source": [
    "# JSON examples and exercise\n",
    "****\n",
    "+ get familiar with packages for dealing with JSON\n",
    "+ study examples with JSON strings and files \n",
    "+ work on exercise to be completed and submitted \n",
    "****\n",
    "+ reference: http://pandas.pydata.org/pandas-docs/stable/io.html#io-json-reader\n",
    "+ data source: http://jsonstudio.com/resources/\n",
    "****"
   ]
  },
  {
   "cell_type": "markdown",
   "metadata": {},
   "source": [
    "## JSON exercise\n",
    "\n",
    "Using data in file 'data/world_bank_projects.json' and the techniques demonstrated above,\n",
    "1. Find the 10 countries with most projects\n",
    "2. Find the top 10 major project themes (using column 'mjtheme_namecode')\n",
    "3. In 2. above you will notice that some entries have only the code and the name is missing. Create a dataframe with the missing names filled in."
   ]
  },
  {
   "cell_type": "code",
   "execution_count": 1,
   "metadata": {
    "collapsed": true
   },
   "outputs": [],
   "source": [
    "import numpy as np\n",
    "import pandas as pd\n",
    "import json\n",
    "from pandas.io.json import json_normalize"
   ]
  },
  {
   "cell_type": "code",
   "execution_count": 2,
   "metadata": {},
   "outputs": [
    {
     "data": {
      "text/html": [
       "<div>\n",
       "<style>\n",
       "    .dataframe thead tr:only-child th {\n",
       "        text-align: right;\n",
       "    }\n",
       "\n",
       "    .dataframe thead th {\n",
       "        text-align: left;\n",
       "    }\n",
       "\n",
       "    .dataframe tbody tr th {\n",
       "        vertical-align: top;\n",
       "    }\n",
       "</style>\n",
       "<table border=\"1\" class=\"dataframe\">\n",
       "  <thead>\n",
       "    <tr style=\"text-align: right;\">\n",
       "      <th></th>\n",
       "      <th>_id</th>\n",
       "      <th>approvalfy</th>\n",
       "      <th>board_approval_month</th>\n",
       "      <th>boardapprovaldate</th>\n",
       "      <th>borrower</th>\n",
       "      <th>closingdate</th>\n",
       "      <th>country_namecode</th>\n",
       "      <th>countrycode</th>\n",
       "      <th>countryname</th>\n",
       "      <th>countryshortname</th>\n",
       "      <th>...</th>\n",
       "      <th>sectorcode</th>\n",
       "      <th>source</th>\n",
       "      <th>status</th>\n",
       "      <th>supplementprojectflg</th>\n",
       "      <th>theme1</th>\n",
       "      <th>theme_namecode</th>\n",
       "      <th>themecode</th>\n",
       "      <th>totalamt</th>\n",
       "      <th>totalcommamt</th>\n",
       "      <th>url</th>\n",
       "    </tr>\n",
       "  </thead>\n",
       "  <tbody>\n",
       "    <tr>\n",
       "      <th>0</th>\n",
       "      <td>{'$oid': '52b213b38594d8a2be17c780'}</td>\n",
       "      <td>1999</td>\n",
       "      <td>November</td>\n",
       "      <td>2013-11-12T00:00:00Z</td>\n",
       "      <td>FEDERAL DEMOCRATIC REPUBLIC OF ETHIOPIA</td>\n",
       "      <td>2018-07-07T00:00:00Z</td>\n",
       "      <td>Federal Democratic Republic of Ethiopia!$!ET</td>\n",
       "      <td>ET</td>\n",
       "      <td>Federal Democratic Republic of Ethiopia</td>\n",
       "      <td>Ethiopia</td>\n",
       "      <td>...</td>\n",
       "      <td>ET,BS,ES,EP</td>\n",
       "      <td>IBRD</td>\n",
       "      <td>Active</td>\n",
       "      <td>N</td>\n",
       "      <td>{'Percent': 100, 'Name': 'Education for all'}</td>\n",
       "      <td>[{'code': '65', 'name': 'Education for all'}]</td>\n",
       "      <td>65</td>\n",
       "      <td>130000000</td>\n",
       "      <td>130000000</td>\n",
       "      <td>http://www.worldbank.org/projects/P129828/ethi...</td>\n",
       "    </tr>\n",
       "    <tr>\n",
       "      <th>1</th>\n",
       "      <td>{'$oid': '52b213b38594d8a2be17c781'}</td>\n",
       "      <td>2015</td>\n",
       "      <td>November</td>\n",
       "      <td>2013-11-04T00:00:00Z</td>\n",
       "      <td>GOVERNMENT OF TUNISIA</td>\n",
       "      <td>NaN</td>\n",
       "      <td>Republic of Tunisia!$!TN</td>\n",
       "      <td>TN</td>\n",
       "      <td>Republic of Tunisia</td>\n",
       "      <td>Tunisia</td>\n",
       "      <td>...</td>\n",
       "      <td>BZ,BS</td>\n",
       "      <td>IBRD</td>\n",
       "      <td>Active</td>\n",
       "      <td>N</td>\n",
       "      <td>{'Percent': 30, 'Name': 'Other economic manage...</td>\n",
       "      <td>[{'code': '24', 'name': 'Other economic manage...</td>\n",
       "      <td>54,24</td>\n",
       "      <td>0</td>\n",
       "      <td>4700000</td>\n",
       "      <td>http://www.worldbank.org/projects/P144674?lang=en</td>\n",
       "    </tr>\n",
       "    <tr>\n",
       "      <th>2</th>\n",
       "      <td>{'$oid': '52b213b38594d8a2be17c782'}</td>\n",
       "      <td>2014</td>\n",
       "      <td>November</td>\n",
       "      <td>2013-11-01T00:00:00Z</td>\n",
       "      <td>MINISTRY OF FINANCE AND ECONOMIC DEVEL</td>\n",
       "      <td>NaN</td>\n",
       "      <td>Tuvalu!$!TV</td>\n",
       "      <td>TV</td>\n",
       "      <td>Tuvalu</td>\n",
       "      <td>Tuvalu</td>\n",
       "      <td>...</td>\n",
       "      <td>TI</td>\n",
       "      <td>IBRD</td>\n",
       "      <td>Active</td>\n",
       "      <td>Y</td>\n",
       "      <td>{'Percent': 46, 'Name': 'Regional integration'}</td>\n",
       "      <td>[{'code': '47', 'name': 'Regional integration'...</td>\n",
       "      <td>52,81,25,47</td>\n",
       "      <td>6060000</td>\n",
       "      <td>6060000</td>\n",
       "      <td>http://www.worldbank.org/projects/P145310?lang=en</td>\n",
       "    </tr>\n",
       "    <tr>\n",
       "      <th>3</th>\n",
       "      <td>{'$oid': '52b213b38594d8a2be17c783'}</td>\n",
       "      <td>2014</td>\n",
       "      <td>October</td>\n",
       "      <td>2013-10-31T00:00:00Z</td>\n",
       "      <td>MIN. OF PLANNING AND INT'L COOPERATION</td>\n",
       "      <td>NaN</td>\n",
       "      <td>Republic of Yemen!$!RY</td>\n",
       "      <td>RY</td>\n",
       "      <td>Republic of Yemen</td>\n",
       "      <td>Yemen, Republic of</td>\n",
       "      <td>...</td>\n",
       "      <td>JB</td>\n",
       "      <td>IBRD</td>\n",
       "      <td>Active</td>\n",
       "      <td>N</td>\n",
       "      <td>{'Percent': 50, 'Name': 'Participation and civ...</td>\n",
       "      <td>[{'code': '57', 'name': 'Participation and civ...</td>\n",
       "      <td>59,57</td>\n",
       "      <td>0</td>\n",
       "      <td>1500000</td>\n",
       "      <td>http://www.worldbank.org/projects/P144665?lang=en</td>\n",
       "    </tr>\n",
       "    <tr>\n",
       "      <th>4</th>\n",
       "      <td>{'$oid': '52b213b38594d8a2be17c784'}</td>\n",
       "      <td>2014</td>\n",
       "      <td>October</td>\n",
       "      <td>2013-10-31T00:00:00Z</td>\n",
       "      <td>MINISTRY OF FINANCE</td>\n",
       "      <td>2019-04-30T00:00:00Z</td>\n",
       "      <td>Kingdom of Lesotho!$!LS</td>\n",
       "      <td>LS</td>\n",
       "      <td>Kingdom of Lesotho</td>\n",
       "      <td>Lesotho</td>\n",
       "      <td>...</td>\n",
       "      <td>FH,YW,YZ</td>\n",
       "      <td>IBRD</td>\n",
       "      <td>Active</td>\n",
       "      <td>N</td>\n",
       "      <td>{'Percent': 30, 'Name': 'Export development an...</td>\n",
       "      <td>[{'code': '45', 'name': 'Export development an...</td>\n",
       "      <td>41,45</td>\n",
       "      <td>13100000</td>\n",
       "      <td>13100000</td>\n",
       "      <td>http://www.worldbank.org/projects/P144933/seco...</td>\n",
       "    </tr>\n",
       "  </tbody>\n",
       "</table>\n",
       "<p>5 rows × 50 columns</p>\n",
       "</div>"
      ],
      "text/plain": [
       "                                    _id  approvalfy board_approval_month  \\\n",
       "0  {'$oid': '52b213b38594d8a2be17c780'}        1999             November   \n",
       "1  {'$oid': '52b213b38594d8a2be17c781'}        2015             November   \n",
       "2  {'$oid': '52b213b38594d8a2be17c782'}        2014             November   \n",
       "3  {'$oid': '52b213b38594d8a2be17c783'}        2014              October   \n",
       "4  {'$oid': '52b213b38594d8a2be17c784'}        2014              October   \n",
       "\n",
       "      boardapprovaldate                                 borrower  \\\n",
       "0  2013-11-12T00:00:00Z  FEDERAL DEMOCRATIC REPUBLIC OF ETHIOPIA   \n",
       "1  2013-11-04T00:00:00Z                    GOVERNMENT OF TUNISIA   \n",
       "2  2013-11-01T00:00:00Z   MINISTRY OF FINANCE AND ECONOMIC DEVEL   \n",
       "3  2013-10-31T00:00:00Z   MIN. OF PLANNING AND INT'L COOPERATION   \n",
       "4  2013-10-31T00:00:00Z                      MINISTRY OF FINANCE   \n",
       "\n",
       "            closingdate                              country_namecode  \\\n",
       "0  2018-07-07T00:00:00Z  Federal Democratic Republic of Ethiopia!$!ET   \n",
       "1                   NaN                      Republic of Tunisia!$!TN   \n",
       "2                   NaN                                   Tuvalu!$!TV   \n",
       "3                   NaN                        Republic of Yemen!$!RY   \n",
       "4  2019-04-30T00:00:00Z                       Kingdom of Lesotho!$!LS   \n",
       "\n",
       "  countrycode                              countryname    countryshortname  \\\n",
       "0          ET  Federal Democratic Republic of Ethiopia            Ethiopia   \n",
       "1          TN                      Republic of Tunisia             Tunisia   \n",
       "2          TV                                   Tuvalu              Tuvalu   \n",
       "3          RY                        Republic of Yemen  Yemen, Republic of   \n",
       "4          LS                       Kingdom of Lesotho             Lesotho   \n",
       "\n",
       "                         ...                           sectorcode source  \\\n",
       "0                        ...                          ET,BS,ES,EP   IBRD   \n",
       "1                        ...                                BZ,BS   IBRD   \n",
       "2                        ...                                   TI   IBRD   \n",
       "3                        ...                                   JB   IBRD   \n",
       "4                        ...                             FH,YW,YZ   IBRD   \n",
       "\n",
       "   status  supplementprojectflg  \\\n",
       "0  Active                     N   \n",
       "1  Active                     N   \n",
       "2  Active                     Y   \n",
       "3  Active                     N   \n",
       "4  Active                     N   \n",
       "\n",
       "                                              theme1  \\\n",
       "0      {'Percent': 100, 'Name': 'Education for all'}   \n",
       "1  {'Percent': 30, 'Name': 'Other economic manage...   \n",
       "2    {'Percent': 46, 'Name': 'Regional integration'}   \n",
       "3  {'Percent': 50, 'Name': 'Participation and civ...   \n",
       "4  {'Percent': 30, 'Name': 'Export development an...   \n",
       "\n",
       "                                      theme_namecode    themecode   totalamt  \\\n",
       "0      [{'code': '65', 'name': 'Education for all'}]           65  130000000   \n",
       "1  [{'code': '24', 'name': 'Other economic manage...        54,24          0   \n",
       "2  [{'code': '47', 'name': 'Regional integration'...  52,81,25,47    6060000   \n",
       "3  [{'code': '57', 'name': 'Participation and civ...        59,57          0   \n",
       "4  [{'code': '45', 'name': 'Export development an...        41,45   13100000   \n",
       "\n",
       "  totalcommamt                                                url  \n",
       "0    130000000  http://www.worldbank.org/projects/P129828/ethi...  \n",
       "1      4700000  http://www.worldbank.org/projects/P144674?lang=en  \n",
       "2      6060000  http://www.worldbank.org/projects/P145310?lang=en  \n",
       "3      1500000  http://www.worldbank.org/projects/P144665?lang=en  \n",
       "4     13100000  http://www.worldbank.org/projects/P144933/seco...  \n",
       "\n",
       "[5 rows x 50 columns]"
      ]
     },
     "execution_count": 2,
     "metadata": {},
     "output_type": "execute_result"
    }
   ],
   "source": [
    "json_data = pd.read_json('data/world_bank_projects.json')\n",
    "json_data.head()"
   ]
  },
  {
   "cell_type": "markdown",
   "metadata": {},
   "source": [
    "# Part 1: Top 10 Countries with the Most Projects"
   ]
  },
  {
   "cell_type": "code",
   "execution_count": 3,
   "metadata": {},
   "outputs": [
    {
     "name": "stdout",
     "output_type": "stream",
     "text": [
      "countryname\n",
      "People's Republic of China         19\n",
      "Republic of Indonesia              19\n",
      "Socialist Republic of Vietnam      17\n",
      "Republic of India                  16\n",
      "Republic of Yemen                  13\n",
      "Nepal                              12\n",
      "People's Republic of Bangladesh    12\n",
      "Kingdom of Morocco                 12\n",
      "Africa                             11\n",
      "Republic of Mozambique             11\n",
      "Name: id, dtype: int64\n"
     ]
    }
   ],
   "source": [
    "country = json_data.groupby('countryname')['id'].agg('count').sort_values(ascending=False)\n",
    "print(country.head(10))"
   ]
  },
  {
   "cell_type": "markdown",
   "metadata": {},
   "source": [
    "The 9th country on this list is Africa, which is a continent and not a country. I want to take a look at the borrower column for the countries that have a country of Africa to see if there are values that can be updated."
   ]
  },
  {
   "cell_type": "code",
   "execution_count": 4,
   "metadata": {},
   "outputs": [
    {
     "name": "stdout",
     "output_type": "stream",
     "text": [
      "    countrycode                       borrower countryshortname\n",
      "45           3A                         ECOWAS           Africa\n",
      "46           3A                 UGANDA-COMOROS           Africa\n",
      "51           3A               OSS, IUCN, CILSS           Africa\n",
      "58           3A                  BANK EXECUTED           Africa\n",
      "65           3A        BURUNDI,RWANDA,TANZANIA           Africa\n",
      "99           3A             GOVERNMENT OF MALI           Africa\n",
      "167          3A  MINISTRIES OF TELECOM AND ICT           Africa\n",
      "184          3A                       TANZANIA           Africa\n",
      "287          3A     MALAWI, MOZAMBIQUE, ZAMBIA           Africa\n",
      "353          3A          NILE BASIN INITIATIVE           Africa\n",
      "449          3A            GOVERNMENT OF NIGER           Africa\n"
     ]
    }
   ],
   "source": [
    "africa = json_data[json_data['countryname'] == 'Africa']\n",
    "print(africa[['countrycode', 'borrower', 'countryshortname']])"
   ]
  },
  {
   "cell_type": "markdown",
   "metadata": {},
   "source": [
    "The table above shows the borrower column for the rows that had Africa as the countryname. It looks like there are 3 rows in this list that apply to countries (Government of Mali, Tanzania, and Government of Niger)."
   ]
  },
  {
   "cell_type": "code",
   "execution_count": 6,
   "metadata": {},
   "outputs": [
    {
     "data": {
      "text/plain": [
       "_id                                      {'$oid': '52b213b38594d8a2be17c941'}\n",
       "approvalfy                                                               2013\n",
       "board_approval_month                                                  October\n",
       "boardapprovaldate                                        2012-10-02T00:00:00Z\n",
       "borrower                                                  GOVERNMENT OF NIGER\n",
       "closingdate                                              2020-04-01T00:00:00Z\n",
       "country_namecode                                                  Africa!$!3A\n",
       "countrycode                                                                NE\n",
       "countryname                                                 Republic of Niger\n",
       "countryshortname                                            Republic of Niger\n",
       "docty                       Implementation Status and Results Report,Summa...\n",
       "envassesmentcategorycode                                                    A\n",
       "grantamt                                                                    0\n",
       "ibrdcommamt                                                                 0\n",
       "id                                                                    P130174\n",
       "idacommamt                                                          203000000\n",
       "impagency                                         NIGER BASIN AUTHORITY (NBA)\n",
       "lendinginstr                                           Adaptable Program Loan\n",
       "lendinginstrtype                                                           IN\n",
       "lendprojectcost                                                     785040000\n",
       "majorsector_percent         [{'Percent': 25, 'Name': 'Energy and mining'},...\n",
       "mjsector_namecode           [{'code': 'LX', 'name': 'Energy and mining'}, ...\n",
       "mjtheme                     [Urban development, Environment and natural re...\n",
       "mjtheme_namecode            [{'code': '9', 'name': 'Urban development'}, {...\n",
       "mjthemecode                                                         9,11,10,5\n",
       "prodline                                                                   PE\n",
       "prodlinetext                                                         IBRD/IDA\n",
       "productlinetype                                                             L\n",
       "project_abstract            {'cdata': 'The objective of the First Part of ...\n",
       "project_name                First Part of the Second Phase of the Niger Ba...\n",
       "projectdocs                 [{'DocDate': '30-MAY-2013', 'EntityID': '09022...\n",
       "projectfinancialtype                                                      IDA\n",
       "projectstatusdisplay                                                   Active\n",
       "regionname                                                             Africa\n",
       "sector                      [{'Name': 'Hydropower'}, {'Name': 'Irrigation ...\n",
       "sector1                                 {'Percent': 25, 'Name': 'Hydropower'}\n",
       "sector2                     {'Percent': 25, 'Name': 'Irrigation and draina...\n",
       "sector3                     {'Percent': 25, 'Name': 'Sub-national governme...\n",
       "sector4                      {'Percent': 15, 'Name': 'Other social services'}\n",
       "sector_namecode             [{'code': 'LH', 'name': 'Hydropower'}, {'code'...\n",
       "sectorcode                                                     AB,JB,BH,AI,LH\n",
       "source                                                                   IBRD\n",
       "status                                                                 Active\n",
       "supplementprojectflg                                                        N\n",
       "theme1                      {'Percent': 10, 'Name': 'Municipal governance ...\n",
       "theme_namecode              [{'code': '73', 'name': 'Municipal governance ...\n",
       "themecode                                                         47,78,85,73\n",
       "totalamt                                                            203000000\n",
       "totalcommamt                                                        203000000\n",
       "url                         http://www.worldbank.org/projects/P130174/firs...\n",
       "Name: 449, dtype: object"
      ]
     },
     "execution_count": 6,
     "metadata": {},
     "output_type": "execute_result"
    }
   ],
   "source": [
    "json_data.set_value(449, 'countrycode', 'NE')\n",
    "json_data.set_value(449, 'countryname', 'Republic of Niger')\n",
    "json_data.set_value(449, 'countryshortname', 'Republic of Niger');\n",
    "json_data.iloc[449]"
   ]
  },
  {
   "cell_type": "markdown",
   "metadata": {},
   "source": [
    "The code, name, and country short name were replaced with the values for Niger in the code above."
   ]
  },
  {
   "cell_type": "code",
   "execution_count": 8,
   "metadata": {},
   "outputs": [
    {
     "name": "stdout",
     "output_type": "stream",
     "text": [
      "_id                                      {'$oid': '52b213b38594d8a2be17c838'}\n",
      "approvalfy                                                               2013\n",
      "board_approval_month                                                      May\n",
      "boardapprovaldate                                        2013-05-21T00:00:00Z\n",
      "borrower                                                             TANZANIA\n",
      "closingdate                                              2018-12-31T00:00:00Z\n",
      "country_namecode                                                  Africa!$!3A\n",
      "countrycode                                                                TZ\n",
      "countryname                                       United Republic of Tanzania\n",
      "countryshortname                                  United Republic of Tanzania\n",
      "docty                       Implementation Status and Results Report,Proje...\n",
      "envassesmentcategorycode                                                    B\n",
      "grantamt                                                                    0\n",
      "ibrdcommamt                                                                 0\n",
      "id                                                                    P120370\n",
      "idacommamt                                                          213000000\n",
      "impagency                                                            TANROADS\n",
      "lendinginstr                                           Adaptable Program Loan\n",
      "lendinginstrtype                                                           IN\n",
      "lendprojectcost                                                     213000000\n",
      "majorsector_percent         [{'Percent': 84, 'Name': 'Transportation'}, {'...\n",
      "mjsector_namecode           [{'code': 'TX', 'name': 'Transportation'}, {'c...\n",
      "mjtheme                     [Trade and integration, Trade and integration,...\n",
      "mjtheme_namecode            [{'code': '5', 'name': 'Trade and integration'...\n",
      "mjthemecode                                                           5,5,9,8\n",
      "prodline                                                                   PE\n",
      "prodlinetext                                                         IBRD/IDA\n",
      "productlinetype                                                             L\n",
      "project_abstract            {'cdata': 'The objective of the Southern Afric...\n",
      "project_name                Southern Africa Trade and Transport Facilitati...\n",
      "projectdocs                 [{'DocDate': '13-OCT-2013', 'EntityID': '09022...\n",
      "projectfinancialtype                                                      IDA\n",
      "projectstatusdisplay                                                   Active\n",
      "regionname                                                             Africa\n",
      "sector                      [{'Name': 'Rural and Inter-Urban Roads and Hig...\n",
      "sector1                     {'Percent': 84, 'Name': 'Rural and Inter-Urban...\n",
      "sector2                     {'Percent': 11, 'Name': 'Public administration...\n",
      "sector3                     {'Percent': 5, 'Name': 'Public administration-...\n",
      "sector4                                                                   NaN\n",
      "sector_namecode             [{'code': 'TI', 'name': 'Rural and Inter-Urban...\n",
      "sectorcode                                                           BQ,BV,TI\n",
      "source                                                                   IBRD\n",
      "status                                                                 Active\n",
      "supplementprojectflg                                                        N\n",
      "theme1                        {'Percent': 23, 'Name': 'Regional integration'}\n",
      "theme_namecode              [{'code': '47', 'name': 'Regional integration'...\n",
      "themecode                                                         88,74,49,47\n",
      "totalamt                                                            213000000\n",
      "totalcommamt                                                        213000000\n",
      "url                         http://www.worldbank.org/projects/P120370/sout...\n",
      "Name: 184, dtype: object\n"
     ]
    }
   ],
   "source": [
    "json_data.set_value(184, 'countryname', 'United Republic of Tanzania')\n",
    "json_data.set_value(184, 'countryshortname', 'United Republic of Tanzania')\n",
    "json_data.set_value(184, 'countrycode', 'TZ');\n",
    "print(json_data.iloc[184])"
   ]
  },
  {
   "cell_type": "markdown",
   "metadata": {},
   "source": [
    "The name, code, and short name were replaced with values for Tanzania. The same is done below for Mali."
   ]
  },
  {
   "cell_type": "code",
   "execution_count": 9,
   "metadata": {
    "collapsed": true
   },
   "outputs": [],
   "source": [
    "json_data.set_value(99, 'countryname', 'Republic of Mali')\n",
    "json_data.set_value(99, 'countryshortname', 'Republic of Mali')\n",
    "json_data.set_value(99, 'countrycode', 'ML');"
   ]
  },
  {
   "cell_type": "markdown",
   "metadata": {},
   "source": [
    "The remaining projects for the country of 'Africa' have multiple countries associated to them so those values cannot be updated."
   ]
  },
  {
   "cell_type": "code",
   "execution_count": 10,
   "metadata": {},
   "outputs": [
    {
     "name": "stdout",
     "output_type": "stream",
     "text": [
      "countryname\n",
      "People's Republic of China         19\n",
      "Republic of Indonesia              19\n",
      "Socialist Republic of Vietnam      17\n",
      "Republic of India                  16\n",
      "Republic of Yemen                  13\n",
      "Nepal                              12\n",
      "People's Republic of Bangladesh    12\n",
      "Kingdom of Morocco                 12\n",
      "Republic of Mozambique             11\n",
      "United Republic of Tanzania         9\n",
      "Name: id, dtype: int64\n"
     ]
    }
   ],
   "source": [
    "country_updated = json_data.groupby('countryname')['id'].agg('count').sort_values(ascending=False)\n",
    "print(country_updated.head(10))"
   ]
  },
  {
   "cell_type": "markdown",
   "metadata": {},
   "source": [
    "The table above shows the top 10 countries with the most projects."
   ]
  },
  {
   "cell_type": "markdown",
   "metadata": {},
   "source": [
    "# Part 2: Top 10 Major Project Themes"
   ]
  },
  {
   "cell_type": "code",
   "execution_count": 12,
   "metadata": {},
   "outputs": [
    {
     "name": "stdout",
     "output_type": "stream",
     "text": [
      "(1499, 2)\n",
      "   code                                          name\n",
      "0     8                             Human development\n",
      "1    11                                              \n",
      "2     1                           Economic management\n",
      "3     6         Social protection and risk management\n",
      "4     5                         Trade and integration\n",
      "5     2                      Public sector governance\n",
      "6    11  Environment and natural resources management\n",
      "7     6         Social protection and risk management\n",
      "8     7                   Social dev/gender/inclusion\n",
      "9     7                   Social dev/gender/inclusion\n",
      "10    5                         Trade and integration\n",
      "11    4      Financial and private sector development\n",
      "12    6         Social protection and risk management\n",
      "13    6                                              \n",
      "14    2                      Public sector governance\n",
      "15    4      Financial and private sector development\n",
      "16   11  Environment and natural resources management\n",
      "17    8                                              \n",
      "18   10                             Rural development\n",
      "19    7                                              \n"
     ]
    }
   ],
   "source": [
    "json_string = json.load((open('data/world_bank_projects.json')))\n",
    "json_normal = json_normalize(json_string, 'mjtheme_namecode')\n",
    "print(json_normal.shape)\n",
    "print(json_normal.head(20))"
   ]
  },
  {
   "cell_type": "markdown",
   "metadata": {},
   "source": [
    "As you can see, there are missing values for the name field. We'll have to remove these in order to see the top ten project themes."
   ]
  },
  {
   "cell_type": "code",
   "execution_count": 13,
   "metadata": {},
   "outputs": [
    {
     "name": "stdout",
     "output_type": "stream",
     "text": [
      "(1377, 2)\n"
     ]
    },
    {
     "data": {
      "text/plain": [
       "name\n",
       "Environment and natural resources management    223\n",
       "Rural development                               202\n",
       "Human development                               197\n",
       "Public sector governance                        184\n",
       "Social protection and risk management           158\n",
       "Financial and private sector development        130\n",
       "Social dev/gender/inclusion                     119\n",
       "Trade and integration                            72\n",
       "Urban development                                47\n",
       "Economic management                              33\n",
       "Name: code, dtype: int64"
      ]
     },
     "execution_count": 13,
     "metadata": {},
     "output_type": "execute_result"
    }
   ],
   "source": [
    "json_no_nulls = json_normal[json_normal['name'] != '']\n",
    "print(json_no_nulls.shape)\n",
    "json_no_nulls.groupby('name')['code'].agg('count').sort_values(ascending=False).head(10)"
   ]
  },
  {
   "cell_type": "markdown",
   "metadata": {},
   "source": [
    "After removing the blanks for the name field, we can see the top 10 project themes."
   ]
  },
  {
   "cell_type": "markdown",
   "metadata": {},
   "source": [
    "# Part 3: Filling in the Missing Values"
   ]
  },
  {
   "cell_type": "markdown",
   "metadata": {},
   "source": [
    "There are two ways I saw that this could be done.\n",
    "\n",
    "1) Replace the name value of a row using the apply() method on a dataframe and \n",
    "2) Sort the dataframe and backfill the data"
   ]
  },
  {
   "cell_type": "markdown",
   "metadata": {},
   "source": [
    "## Replace using apply()"
   ]
  },
  {
   "cell_type": "code",
   "execution_count": 14,
   "metadata": {
    "collapsed": true
   },
   "outputs": [],
   "source": [
    "def fill_blanks(row):\n",
    "    value = ''\n",
    "    if row['code'] == '1':\n",
    "        value = 'Economic management'\n",
    "    if row['code'] == '2':\n",
    "        value = 'Public sector governance'\n",
    "    if row['code'] == '3':\n",
    "        value = 'Rule of law'\n",
    "    if row['code'] == '4':\n",
    "        value = 'Financial and private sector development'\n",
    "    if row['code'] == '5':\n",
    "        value = 'Trade and integration'\n",
    "    if row['code'] == '6':\n",
    "        value = 'Social protection and risk management'\n",
    "    if row['code'] == '7':\n",
    "        value = 'Social dev/gender/inclusion'\n",
    "    if row['code'] == '8':\n",
    "        value = 'Human development'\n",
    "    if row['code'] == '9':\n",
    "        value = 'Urban development'\n",
    "    if row['code'] == '10':\n",
    "        value = 'Rural development'\n",
    "    if row['code'] == '11':\n",
    "        value = 'Environment and natural resources management'\n",
    "    row['name'] = value\n",
    "    return row"
   ]
  },
  {
   "cell_type": "markdown",
   "metadata": {},
   "source": [
    "The function above takes a row and replaces the name value based on the value in the code column."
   ]
  },
  {
   "cell_type": "code",
   "execution_count": 17,
   "metadata": {},
   "outputs": [
    {
     "name": "stdout",
     "output_type": "stream",
     "text": [
      "   code                                          name\n",
      "0     8                             Human development\n",
      "1    11  Environment and natural resources management\n",
      "2     1                           Economic management\n",
      "3     6         Social protection and risk management\n",
      "4     5                         Trade and integration\n",
      "5     2                      Public sector governance\n",
      "6    11  Environment and natural resources management\n",
      "7     6         Social protection and risk management\n",
      "8     7                   Social dev/gender/inclusion\n",
      "9     7                   Social dev/gender/inclusion\n",
      "10    5                         Trade and integration\n",
      "11    4      Financial and private sector development\n",
      "12    6         Social protection and risk management\n",
      "13    6         Social protection and risk management\n",
      "14    2                      Public sector governance\n",
      "15    4      Financial and private sector development\n",
      "16   11  Environment and natural resources management\n",
      "17    8                             Human development\n",
      "18   10                             Rural development\n",
      "19    7                   Social dev/gender/inclusion\n",
      "name\n",
      "Environment and natural resources management    250\n",
      "Rural development                               216\n",
      "Human development                               210\n",
      "Public sector governance                        199\n",
      "Social protection and risk management           168\n",
      "Financial and private sector development        146\n",
      "Social dev/gender/inclusion                     130\n",
      "Trade and integration                            77\n",
      "Urban development                                50\n",
      "Economic management                              38\n",
      "Name: code, dtype: int64\n"
     ]
    }
   ],
   "source": [
    "json_new = json_normal.copy()\n",
    "json_new = json_new.apply(fill_blanks, axis=1)\n",
    "print(json_new.head(20))\n",
    "print(json_new.groupby('name')['code'].agg('count').sort_values(ascending=False).head(10))"
   ]
  },
  {
   "cell_type": "markdown",
   "metadata": {},
   "source": [
    "The function is then applied to the dataframe of codes and names using the apply() method. This apply() method is performed over the rows of the dataframe.\n",
    "\n",
    "The table at the bottom shows the top 10 project themes after filling in the data."
   ]
  },
  {
   "cell_type": "markdown",
   "metadata": {},
   "source": [
    "## Sort and Backfill"
   ]
  },
  {
   "cell_type": "code",
   "execution_count": 18,
   "metadata": {},
   "outputs": [
    {
     "data": {
      "text/html": [
       "<div>\n",
       "<style>\n",
       "    .dataframe thead tr:only-child th {\n",
       "        text-align: right;\n",
       "    }\n",
       "\n",
       "    .dataframe thead th {\n",
       "        text-align: left;\n",
       "    }\n",
       "\n",
       "    .dataframe tbody tr th {\n",
       "        vertical-align: top;\n",
       "    }\n",
       "</style>\n",
       "<table border=\"1\" class=\"dataframe\">\n",
       "  <thead>\n",
       "    <tr style=\"text-align: right;\">\n",
       "      <th></th>\n",
       "      <th>code</th>\n",
       "      <th>name</th>\n",
       "    </tr>\n",
       "  </thead>\n",
       "  <tbody>\n",
       "    <tr>\n",
       "      <th>212</th>\n",
       "      <td>1</td>\n",
       "      <td></td>\n",
       "    </tr>\n",
       "    <tr>\n",
       "      <th>363</th>\n",
       "      <td>1</td>\n",
       "      <td></td>\n",
       "    </tr>\n",
       "    <tr>\n",
       "      <th>1024</th>\n",
       "      <td>1</td>\n",
       "      <td></td>\n",
       "    </tr>\n",
       "    <tr>\n",
       "      <th>1114</th>\n",
       "      <td>1</td>\n",
       "      <td></td>\n",
       "    </tr>\n",
       "    <tr>\n",
       "      <th>1437</th>\n",
       "      <td>1</td>\n",
       "      <td></td>\n",
       "    </tr>\n",
       "    <tr>\n",
       "      <th>2</th>\n",
       "      <td>1</td>\n",
       "      <td>Economic management</td>\n",
       "    </tr>\n",
       "    <tr>\n",
       "      <th>88</th>\n",
       "      <td>1</td>\n",
       "      <td>Economic management</td>\n",
       "    </tr>\n",
       "    <tr>\n",
       "      <th>175</th>\n",
       "      <td>1</td>\n",
       "      <td>Economic management</td>\n",
       "    </tr>\n",
       "    <tr>\n",
       "      <th>204</th>\n",
       "      <td>1</td>\n",
       "      <td>Economic management</td>\n",
       "    </tr>\n",
       "    <tr>\n",
       "      <th>205</th>\n",
       "      <td>1</td>\n",
       "      <td>Economic management</td>\n",
       "    </tr>\n",
       "  </tbody>\n",
       "</table>\n",
       "</div>"
      ],
      "text/plain": [
       "     code                 name\n",
       "212     1                     \n",
       "363     1                     \n",
       "1024    1                     \n",
       "1114    1                     \n",
       "1437    1                     \n",
       "2       1  Economic management\n",
       "88      1  Economic management\n",
       "175     1  Economic management\n",
       "204     1  Economic management\n",
       "205     1  Economic management"
      ]
     },
     "execution_count": 18,
     "metadata": {},
     "output_type": "execute_result"
    }
   ],
   "source": [
    "json_sorted = json_normal.sort_values(['code', 'name'], ascending=True)\n",
    "json_sorted.head(10)"
   ]
  },
  {
   "cell_type": "markdown",
   "metadata": {},
   "source": [
    "The values of the blank names are ''. In order to use backfilling, we'll have to convert these values to NaN using np.nan."
   ]
  },
  {
   "cell_type": "code",
   "execution_count": 19,
   "metadata": {},
   "outputs": [
    {
     "data": {
      "text/html": [
       "<div>\n",
       "<style>\n",
       "    .dataframe thead tr:only-child th {\n",
       "        text-align: right;\n",
       "    }\n",
       "\n",
       "    .dataframe thead th {\n",
       "        text-align: left;\n",
       "    }\n",
       "\n",
       "    .dataframe tbody tr th {\n",
       "        vertical-align: top;\n",
       "    }\n",
       "</style>\n",
       "<table border=\"1\" class=\"dataframe\">\n",
       "  <thead>\n",
       "    <tr style=\"text-align: right;\">\n",
       "      <th></th>\n",
       "      <th>code</th>\n",
       "      <th>name</th>\n",
       "    </tr>\n",
       "  </thead>\n",
       "  <tbody>\n",
       "    <tr>\n",
       "      <th>212</th>\n",
       "      <td>1</td>\n",
       "      <td>NaN</td>\n",
       "    </tr>\n",
       "    <tr>\n",
       "      <th>363</th>\n",
       "      <td>1</td>\n",
       "      <td>NaN</td>\n",
       "    </tr>\n",
       "    <tr>\n",
       "      <th>1024</th>\n",
       "      <td>1</td>\n",
       "      <td>NaN</td>\n",
       "    </tr>\n",
       "    <tr>\n",
       "      <th>1114</th>\n",
       "      <td>1</td>\n",
       "      <td>NaN</td>\n",
       "    </tr>\n",
       "    <tr>\n",
       "      <th>1437</th>\n",
       "      <td>1</td>\n",
       "      <td>NaN</td>\n",
       "    </tr>\n",
       "    <tr>\n",
       "      <th>2</th>\n",
       "      <td>1</td>\n",
       "      <td>Economic management</td>\n",
       "    </tr>\n",
       "    <tr>\n",
       "      <th>88</th>\n",
       "      <td>1</td>\n",
       "      <td>Economic management</td>\n",
       "    </tr>\n",
       "    <tr>\n",
       "      <th>175</th>\n",
       "      <td>1</td>\n",
       "      <td>Economic management</td>\n",
       "    </tr>\n",
       "    <tr>\n",
       "      <th>204</th>\n",
       "      <td>1</td>\n",
       "      <td>Economic management</td>\n",
       "    </tr>\n",
       "    <tr>\n",
       "      <th>205</th>\n",
       "      <td>1</td>\n",
       "      <td>Economic management</td>\n",
       "    </tr>\n",
       "  </tbody>\n",
       "</table>\n",
       "</div>"
      ],
      "text/plain": [
       "     code                 name\n",
       "212     1                  NaN\n",
       "363     1                  NaN\n",
       "1024    1                  NaN\n",
       "1114    1                  NaN\n",
       "1437    1                  NaN\n",
       "2       1  Economic management\n",
       "88      1  Economic management\n",
       "175     1  Economic management\n",
       "204     1  Economic management\n",
       "205     1  Economic management"
      ]
     },
     "execution_count": 19,
     "metadata": {},
     "output_type": "execute_result"
    }
   ],
   "source": [
    "json_sorted['name'][json_sorted['name'] == ''] = np.nan\n",
    "json_sorted.head(10)"
   ]
  },
  {
   "cell_type": "code",
   "execution_count": 20,
   "metadata": {},
   "outputs": [
    {
     "data": {
      "text/html": [
       "<div>\n",
       "<style>\n",
       "    .dataframe thead tr:only-child th {\n",
       "        text-align: right;\n",
       "    }\n",
       "\n",
       "    .dataframe thead th {\n",
       "        text-align: left;\n",
       "    }\n",
       "\n",
       "    .dataframe tbody tr th {\n",
       "        vertical-align: top;\n",
       "    }\n",
       "</style>\n",
       "<table border=\"1\" class=\"dataframe\">\n",
       "  <thead>\n",
       "    <tr style=\"text-align: right;\">\n",
       "      <th></th>\n",
       "      <th>code</th>\n",
       "      <th>name</th>\n",
       "    </tr>\n",
       "  </thead>\n",
       "  <tbody>\n",
       "    <tr>\n",
       "      <th>0</th>\n",
       "      <td>8</td>\n",
       "      <td>Human development</td>\n",
       "    </tr>\n",
       "    <tr>\n",
       "      <th>1</th>\n",
       "      <td>11</td>\n",
       "      <td>Environment and natural resources management</td>\n",
       "    </tr>\n",
       "    <tr>\n",
       "      <th>2</th>\n",
       "      <td>1</td>\n",
       "      <td>Economic management</td>\n",
       "    </tr>\n",
       "    <tr>\n",
       "      <th>3</th>\n",
       "      <td>6</td>\n",
       "      <td>Social protection and risk management</td>\n",
       "    </tr>\n",
       "    <tr>\n",
       "      <th>4</th>\n",
       "      <td>5</td>\n",
       "      <td>Trade and integration</td>\n",
       "    </tr>\n",
       "    <tr>\n",
       "      <th>5</th>\n",
       "      <td>2</td>\n",
       "      <td>Public sector governance</td>\n",
       "    </tr>\n",
       "    <tr>\n",
       "      <th>6</th>\n",
       "      <td>11</td>\n",
       "      <td>Environment and natural resources management</td>\n",
       "    </tr>\n",
       "    <tr>\n",
       "      <th>7</th>\n",
       "      <td>6</td>\n",
       "      <td>Social protection and risk management</td>\n",
       "    </tr>\n",
       "    <tr>\n",
       "      <th>8</th>\n",
       "      <td>7</td>\n",
       "      <td>Social dev/gender/inclusion</td>\n",
       "    </tr>\n",
       "    <tr>\n",
       "      <th>9</th>\n",
       "      <td>7</td>\n",
       "      <td>Social dev/gender/inclusion</td>\n",
       "    </tr>\n",
       "    <tr>\n",
       "      <th>10</th>\n",
       "      <td>5</td>\n",
       "      <td>Trade and integration</td>\n",
       "    </tr>\n",
       "    <tr>\n",
       "      <th>11</th>\n",
       "      <td>4</td>\n",
       "      <td>Financial and private sector development</td>\n",
       "    </tr>\n",
       "    <tr>\n",
       "      <th>12</th>\n",
       "      <td>6</td>\n",
       "      <td>Social protection and risk management</td>\n",
       "    </tr>\n",
       "    <tr>\n",
       "      <th>13</th>\n",
       "      <td>6</td>\n",
       "      <td>Social protection and risk management</td>\n",
       "    </tr>\n",
       "    <tr>\n",
       "      <th>14</th>\n",
       "      <td>2</td>\n",
       "      <td>Public sector governance</td>\n",
       "    </tr>\n",
       "    <tr>\n",
       "      <th>15</th>\n",
       "      <td>4</td>\n",
       "      <td>Financial and private sector development</td>\n",
       "    </tr>\n",
       "    <tr>\n",
       "      <th>16</th>\n",
       "      <td>11</td>\n",
       "      <td>Environment and natural resources management</td>\n",
       "    </tr>\n",
       "    <tr>\n",
       "      <th>17</th>\n",
       "      <td>8</td>\n",
       "      <td>Human development</td>\n",
       "    </tr>\n",
       "    <tr>\n",
       "      <th>18</th>\n",
       "      <td>10</td>\n",
       "      <td>Rural development</td>\n",
       "    </tr>\n",
       "    <tr>\n",
       "      <th>19</th>\n",
       "      <td>7</td>\n",
       "      <td>Social dev/gender/inclusion</td>\n",
       "    </tr>\n",
       "  </tbody>\n",
       "</table>\n",
       "</div>"
      ],
      "text/plain": [
       "   code                                          name\n",
       "0     8                             Human development\n",
       "1    11  Environment and natural resources management\n",
       "2     1                           Economic management\n",
       "3     6         Social protection and risk management\n",
       "4     5                         Trade and integration\n",
       "5     2                      Public sector governance\n",
       "6    11  Environment and natural resources management\n",
       "7     6         Social protection and risk management\n",
       "8     7                   Social dev/gender/inclusion\n",
       "9     7                   Social dev/gender/inclusion\n",
       "10    5                         Trade and integration\n",
       "11    4      Financial and private sector development\n",
       "12    6         Social protection and risk management\n",
       "13    6         Social protection and risk management\n",
       "14    2                      Public sector governance\n",
       "15    4      Financial and private sector development\n",
       "16   11  Environment and natural resources management\n",
       "17    8                             Human development\n",
       "18   10                             Rural development\n",
       "19    7                   Social dev/gender/inclusion"
      ]
     },
     "execution_count": 20,
     "metadata": {},
     "output_type": "execute_result"
    }
   ],
   "source": [
    "json_filled = json_sorted.fillna(method='bfill')\n",
    "json_filled.sort_index().head(20)"
   ]
  },
  {
   "cell_type": "markdown",
   "metadata": {},
   "source": [
    "After backfilling the data and re-sorting the index, the values are correctly filled in for the codes that had missing values."
   ]
  },
  {
   "cell_type": "code",
   "execution_count": 21,
   "metadata": {},
   "outputs": [
    {
     "data": {
      "text/plain": [
       "name\n",
       "Environment and natural resources management    250\n",
       "Rural development                               216\n",
       "Human development                               210\n",
       "Public sector governance                        199\n",
       "Social protection and risk management           168\n",
       "Financial and private sector development        146\n",
       "Social dev/gender/inclusion                     130\n",
       "Trade and integration                            77\n",
       "Urban development                                50\n",
       "Economic management                              38\n",
       "Name: code, dtype: int64"
      ]
     },
     "execution_count": 21,
     "metadata": {},
     "output_type": "execute_result"
    }
   ],
   "source": [
    "json_filled.groupby('name')['code'].agg('count').sort_values(ascending=False).head(10)"
   ]
  },
  {
   "cell_type": "markdown",
   "metadata": {},
   "source": [
    "The table above shows the top 10 project themes with filled in values for the blank rows. It turns out to the same as the table from the apply() method."
   ]
  },
  {
   "cell_type": "code",
   "execution_count": null,
   "metadata": {
    "collapsed": true
   },
   "outputs": [],
   "source": []
  }
 ],
 "metadata": {
  "kernelspec": {
   "display_name": "Python 3",
   "language": "python",
   "name": "python3"
  },
  "language_info": {
   "codemirror_mode": {
    "name": "ipython",
    "version": 3
   },
   "file_extension": ".py",
   "mimetype": "text/x-python",
   "name": "python",
   "nbconvert_exporter": "python",
   "pygments_lexer": "ipython3",
   "version": "3.6.1"
  }
 },
 "nbformat": 4,
 "nbformat_minor": 2
}
